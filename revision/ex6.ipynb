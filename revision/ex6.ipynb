{
    "metadata": {
        "kernelspec": {
            "name": "SQL",
            "display_name": "SQL",
            "language": "sql"
        },
        "language_info": {
            "name": "sql",
            "version": ""
        },
        "extensions": {
            "azuredatastudio": {
                "version": 1,
                "views": []
            }
        }
    },
    "nbformat_minor": 2,
    "nbformat": 4,
    "cells": [
        {
            "cell_type": "code",
            "source": [
                "SELECT [J].[member_no] FROM [juvenile] AS [J]\r\n",
                "INNER JOIN [loanhist] AS [LH] ON [LH].[member_no] = [J].[member_no]\r\n",
                "INNER JOIN [title] AS [T] ON [T].[title_no] = [LH].[title_no]\r\n",
                "WHERE YEAR([LH].[in_date]) = 2001 AND MONTH([LH].[in_date]) = 12 AND DAY([LH].[in_date]) = 14 AND [T].[title] = 'walking'"
            ],
            "metadata": {
                "azdata_cell_guid": "2d6ca4a0-4b0d-4359-a559-de54be283e8d"
            },
            "outputs": [
                {
                    "output_type": "display_data",
                    "data": {
                        "text/html": "(3 rows affected)"
                    },
                    "metadata": {}
                },
                {
                    "output_type": "display_data",
                    "data": {
                        "text/html": "Total execution time: 00:00:00.038"
                    },
                    "metadata": {}
                },
                {
                    "output_type": "execute_result",
                    "metadata": {},
                    "execution_count": 95,
                    "data": {
                        "application/vnd.dataresource+json": {
                            "schema": {
                                "fields": [
                                    {
                                        "name": "member_no"
                                    }
                                ]
                            },
                            "data": [
                                {
                                    "0": "3706"
                                },
                                {
                                    "0": "4052"
                                },
                                {
                                    "0": "9030"
                                }
                            ]
                        },
                        "text/html": [
                            "<table>",
                            "<tr><th>member_no</th></tr>",
                            "<tr><td>3706</td></tr>",
                            "<tr><td>4052</td></tr>",
                            "<tr><td>9030</td></tr>",
                            "</table>"
                        ]
                    }
                }
            ],
            "execution_count": 95
        },
        {
            "cell_type": "code",
            "source": [
                "SELECT [P].[ProductName], [S].[CompanyName] FROM [Products] AS [P]\r\n",
                "INNER JOIN [Suppliers] AS [S] ON [S].[SupplierID] = [P].[SupplierID]\r\n",
                "INNER JOIN [Categories] AS [C] ON [C].[CategoryID] = [P].[CategoryID] \r\n",
                "WHERE [P].[ProductID] NOT IN (SELECT [P1].[ProductID] FROM [Products] AS [P1]\r\n",
                "                              INNER JOIN [Order Details] AS [OD] ON [P].[ProductID] = [OD].[ProductID]\r\n",
                "                              INNER JOIN [Orders] AS [O] ON [OD].[OrderID] = [O].[OrderID]\r\n",
                "                              WHERE [O].[OrderDate] BETWEEN '1997-02-20' AND '1997-02-25') AND [C].[CategoryName] = 'Beverages'"
            ],
            "metadata": {
                "azdata_cell_guid": "0a07975a-b71b-46ed-af8b-cc343287685e",
                "tags": []
            },
            "outputs": [
                {
                    "output_type": "display_data",
                    "data": {
                        "text/html": "(10 rows affected)"
                    },
                    "metadata": {}
                },
                {
                    "output_type": "display_data",
                    "data": {
                        "text/html": "Total execution time: 00:00:00.017"
                    },
                    "metadata": {}
                },
                {
                    "output_type": "execute_result",
                    "metadata": {},
                    "execution_count": 92,
                    "data": {
                        "application/vnd.dataresource+json": {
                            "schema": {
                                "fields": [
                                    {
                                        "name": "ProductName"
                                    },
                                    {
                                        "name": "CompanyName"
                                    }
                                ]
                            },
                            "data": [
                                {
                                    "0": "Chai",
                                    "1": "Exotic Liquids"
                                },
                                {
                                    "0": "Chang",
                                    "1": "Exotic Liquids"
                                },
                                {
                                    "0": "Guaraná Fantástica",
                                    "1": "Refrescos Americanas LTDA"
                                },
                                {
                                    "0": "Sasquatch Ale",
                                    "1": "Bigfoot Breweries"
                                },
                                {
                                    "0": "Steeleye Stout",
                                    "1": "Bigfoot Breweries"
                                },
                                {
                                    "0": "Côte de Blaye",
                                    "1": "Aux joyeux ecclésiastiques"
                                },
                                {
                                    "0": "Ipoh Coffee",
                                    "1": "Leka Trading"
                                },
                                {
                                    "0": "Laughing Lumberjack Lager",
                                    "1": "Bigfoot Breweries"
                                },
                                {
                                    "0": "Rhönbräu Klosterbier",
                                    "1": "Plutzer Lebensmittelgroßmärkte AG"
                                },
                                {
                                    "0": "Lakkalikööri",
                                    "1": "Karkki Oy"
                                }
                            ]
                        },
                        "text/html": [
                            "<table>",
                            "<tr><th>ProductName</th><th>CompanyName</th></tr>",
                            "<tr><td>Chai</td><td>Exotic Liquids</td></tr>",
                            "<tr><td>Chang</td><td>Exotic Liquids</td></tr>",
                            "<tr><td>Guaraná Fantástica</td><td>Refrescos Americanas LTDA</td></tr>",
                            "<tr><td>Sasquatch Ale</td><td>Bigfoot Breweries</td></tr>",
                            "<tr><td>Steeleye Stout</td><td>Bigfoot Breweries</td></tr>",
                            "<tr><td>Côte de Blaye</td><td>Aux joyeux ecclésiastiques</td></tr>",
                            "<tr><td>Ipoh Coffee</td><td>Leka Trading</td></tr>",
                            "<tr><td>Laughing Lumberjack Lager</td><td>Bigfoot Breweries</td></tr>",
                            "<tr><td>Rhönbräu Klosterbier</td><td>Plutzer Lebensmittelgroßmärkte AG</td></tr>",
                            "<tr><td>Lakkalikööri</td><td>Karkki Oy</td></tr>",
                            "</table>"
                        ]
                    }
                }
            ],
            "execution_count": 92
        },
        {
            "cell_type": "code",
            "source": [
                "SELECT [E1].[EmployeeID], \r\n",
                "\r\n",
                "(SELECT ISNULL(SUM((1 - [OD].[Discount]) * [OD].[Quantity] * [OD].[UnitPrice]) + SUM([O].[Freight]), 0) FROM [Employees] AS [E]\r\n",
                "INNER JOIN [Orders] AS [O] ON [E].[EmployeeID] = [O].[EmployeeID]\r\n",
                "INNER JOIN [Order Details] AS [OD] ON [OD].[OrderID] = [O].[OrderID]\r\n",
                "WHERE YEAR([O].[ShippedDate]) = 1997 AND MONTH([O].[ShippedDate]) = 2 AND [E1].[EmployeeID] = [E].[EmployeeID]),\r\n",
                "\r\n",
                "(SELECT COUNT(DISTINCT [O].[OrderID]) FROM [Employees] AS [E]\r\n",
                "INNER JOIN [Orders] AS [O] ON [E].[EmployeeID] = [O].[EmployeeID]\r\n",
                "INNER JOIN [Order Details] AS [OD] ON [OD].[OrderID] = [O].[OrderID]\r\n",
                "WHERE YEAR([O].[ShippedDate]) = 1997 AND MONTH([O].[ShippedDate]) = 2 AND [E1].[EmployeeID] = [E].[EmployeeID])\r\n",
                "\r\n",
                "FROM [Employees] AS [E1]"
            ],
            "metadata": {
                "azdata_cell_guid": "53cfcc9e-59a0-4b1f-a46b-2ed6895425ec",
                "tags": []
            },
            "outputs": [
                {
                    "output_type": "display_data",
                    "data": {
                        "text/html": "(9 rows affected)"
                    },
                    "metadata": {}
                },
                {
                    "output_type": "display_data",
                    "data": {
                        "text/html": "Total execution time: 00:00:00.059"
                    },
                    "metadata": {}
                },
                {
                    "output_type": "execute_result",
                    "metadata": {},
                    "execution_count": 96,
                    "data": {
                        "application/vnd.dataresource+json": {
                            "schema": {
                                "fields": [
                                    {
                                        "name": "EmployeeID"
                                    },
                                    {
                                        "name": "(No column name)"
                                    },
                                    {
                                        "name": "(No column name)"
                                    }
                                ]
                            },
                            "data": [
                                {
                                    "0": "1",
                                    "1": "458.4199969482422",
                                    "2": "1"
                                },
                                {
                                    "0": "2",
                                    "1": "0",
                                    "2": "0"
                                },
                                {
                                    "0": "3",
                                    "1": "10678.274903259276",
                                    "2": "9"
                                },
                                {
                                    "0": "4",
                                    "1": "16999.845067749025",
                                    "2": "7"
                                },
                                {
                                    "0": "5",
                                    "1": "0",
                                    "2": "0"
                                },
                                {
                                    "0": "6",
                                    "1": "2844.0999883270265",
                                    "2": "4"
                                },
                                {
                                    "0": "7",
                                    "1": "203.09",
                                    "2": "1"
                                },
                                {
                                    "0": "8",
                                    "1": "4490.400014648438",
                                    "2": "5"
                                },
                                {
                                    "0": "9",
                                    "1": "0",
                                    "2": "0"
                                }
                            ]
                        },
                        "text/html": [
                            "<table>",
                            "<tr><th>EmployeeID</th><th>(No column name)</th><th>(No column name)</th></tr>",
                            "<tr><td>1</td><td>458.4199969482422</td><td>1</td></tr>",
                            "<tr><td>2</td><td>0</td><td>0</td></tr>",
                            "<tr><td>3</td><td>10678.274903259276</td><td>9</td></tr>",
                            "<tr><td>4</td><td>16999.845067749025</td><td>7</td></tr>",
                            "<tr><td>5</td><td>0</td><td>0</td></tr>",
                            "<tr><td>6</td><td>2844.0999883270265</td><td>4</td></tr>",
                            "<tr><td>7</td><td>203.09</td><td>1</td></tr>",
                            "<tr><td>8</td><td>4490.400014648438</td><td>5</td></tr>",
                            "<tr><td>9</td><td>0</td><td>0</td></tr>",
                            "</table>"
                        ]
                    }
                }
            ],
            "execution_count": 96
        },
        {
            "cell_type": "code",
            "source": [
                "SELECT [CU1].[CompanyName], \r\n",
                "(SELECT TOP 1 [E].[FirstName] + ' ' + [E].[LastName] AS [name] FROM [Customers] AS [CU]\r\n",
                "INNER JOIN [Orders] AS [O] ON [O].[CustomerID] = [CU].[CustomerID]\r\n",
                "INNER JOIN [Employees] AS [E] ON [E].[EmployeeID] = [O].[EmployeeID]\r\n",
                "WHERE YEAR([O].[ShippedDate]) = 1997 AND [CU1].[CustomerID] = [CU].[CustomerID]\r\n",
                "GROUP BY [E].[FirstName], [E].[LastName] ORDER BY COUNT([O].[OrderID]) DESC),\r\n",
                "\r\n",
                "(SELECT TOP 1 COUNT([O].[OrderID]) FROM [Customers] AS [CU]\r\n",
                "INNER JOIN [Orders] AS [O] ON [O].[CustomerID] = [CU].[CustomerID]\r\n",
                "INNER JOIN [Employees] AS [E] ON [E].[EmployeeID] = [O].[EmployeeID]\r\n",
                "WHERE YEAR([O].[ShippedDate]) = 1997 AND [CU1].[CustomerID] = [CU].[CustomerID]\r\n",
                "GROUP BY [E].[FirstName], [E].[LastName] ORDER BY COUNT([O].[OrderID]) DESC)\r\n",
                "\r\n",
                "FROM [Customers] AS [CU1]"
            ],
            "metadata": {
                "azdata_cell_guid": "88b944bb-52db-42cd-8c69-fe392c1d6dbc"
            },
            "outputs": [
                {
                    "output_type": "display_data",
                    "data": {
                        "text/html": "(91 rows affected)"
                    },
                    "metadata": {}
                },
                {
                    "output_type": "display_data",
                    "data": {
                        "text/html": "Total execution time: 00:00:00.033"
                    },
                    "metadata": {}
                },
                {
                    "output_type": "execute_result",
                    "metadata": {},
                    "execution_count": 97,
                    "data": {
                        "application/vnd.dataresource+json": {
                            "schema": {
                                "fields": [
                                    {
                                        "name": "CompanyName"
                                    },
                                    {
                                        "name": "(No column name)"
                                    },
                                    {
                                        "name": "(No column name)"
                                    }
                                ]
                            },
                            "data": [
                                {
                                    "0": "Alfreds Futterkiste",
                                    "1": "Margaret Peacock",
                                    "2": "2"
                                },
                                {
                                    "0": "Ana Trujillo Emparedados y helados",
                                    "1": "Janet Leverling",
                                    "2": "2"
                                },
                                {
                                    "0": "Antonio Moreno Taquería",
                                    "1": "Robert King",
                                    "2": "2"
                                },
                                {
                                    "0": "Around the Horn",
                                    "1": "Nancy Davolio",
                                    "2": "3"
                                },
                                {
                                    "0": "Berglunds snabbköp",
                                    "1": "Nancy Davolio",
                                    "2": "4"
                                },
                                {
                                    "0": "Blauer See Delikatessen",
                                    "1": "Laura Callahan",
                                    "2": "1"
                                },
                                {
                                    "0": "Blondesddsl père et fils",
                                    "1": "Janet Leverling",
                                    "2": "2"
                                },
                                {
                                    "0": "Bon app'",
                                    "1": "Margaret Peacock",
                                    "2": "3"
                                },
                                {
                                    "0": "Bottom-Dollar Markets",
                                    "1": "Janet Leverling",
                                    "2": "3"
                                },
                                {
                                    "0": "Bólido Comidas preparadas",
                                    "1": "Margaret Peacock",
                                    "2": "1"
                                },
                                {
                                    "0": "B's Beverages",
                                    "1": "Michael Suyama",
                                    "2": "2"
                                },
                                {
                                    "0": "Cactus Comidas para llevar",
                                    "1": "Laura Callahan",
                                    "2": "1"
                                },
                                {
                                    "0": "Centro comercial Moctezuma",
                                    "1": "NULL",
                                    "2": "NULL"
                                },
                                {
                                    "0": "Chop-suey Chinese",
                                    "1": "Nancy Davolio",
                                    "2": "1"
                                },
                                {
                                    "0": "Comércio Mineiro",
                                    "1": "Margaret Peacock",
                                    "2": "2"
                                },
                                {
                                    "0": "Consolidated Holdings",
                                    "1": "Laura Callahan",
                                    "2": "1"
                                },
                                {
                                    "0": "Die Wandernde Kuh",
                                    "1": "Laura Callahan",
                                    "2": "2"
                                },
                                {
                                    "0": "Drachenblut Delikatessen",
                                    "1": "NULL",
                                    "2": "NULL"
                                },
                                {
                                    "0": "Du monde entier",
                                    "1": "Andrew Fuller",
                                    "2": "1"
                                },
                                {
                                    "0": "Eastern Connection",
                                    "1": "Nancy Davolio",
                                    "2": "1"
                                },
                                {
                                    "0": "Ernst Handel",
                                    "1": "Margaret Peacock",
                                    "2": "3"
                                },
                                {
                                    "0": "Familia Arquibaldo",
                                    "1": "Steven Buchanan",
                                    "2": "1"
                                },
                                {
                                    "0": "FISSA Fabrica Inter. Salchichas S.A.",
                                    "1": "NULL",
                                    "2": "NULL"
                                },
                                {
                                    "0": "Folies gourmandes",
                                    "1": "Laura Callahan",
                                    "2": "1"
                                },
                                {
                                    "0": "Folk och fä HB",
                                    "1": "Laura Callahan",
                                    "2": "2"
                                },
                                {
                                    "0": "France restauration",
                                    "1": "Nancy Davolio",
                                    "2": "1"
                                },
                                {
                                    "0": "Franchi S.p.A.",
                                    "1": "Nancy Davolio",
                                    "2": "1"
                                },
                                {
                                    "0": "Frankenversand",
                                    "1": "Laura Callahan",
                                    "2": "3"
                                },
                                {
                                    "0": "Furia Bacalhau e Frutos do Mar",
                                    "1": "Nancy Davolio",
                                    "2": "2"
                                },
                                {
                                    "0": "Galería del gastrónomo",
                                    "1": "Janet Leverling",
                                    "2": "1"
                                },
                                {
                                    "0": "Godos Cocina Típica",
                                    "1": "Robert King",
                                    "2": "1"
                                },
                                {
                                    "0": "Gourmet Lanchonetes",
                                    "1": "Margaret Peacock",
                                    "2": "2"
                                },
                                {
                                    "0": "Great Lakes Food Market",
                                    "1": "Michael Suyama",
                                    "2": "2"
                                },
                                {
                                    "0": "GROSELLA-Restaurante",
                                    "1": "Nancy Davolio",
                                    "2": "1"
                                },
                                {
                                    "0": "Hanari Carnes",
                                    "1": "Margaret Peacock",
                                    "2": "2"
                                },
                                {
                                    "0": "HILARION-Abastos",
                                    "1": "Laura Callahan",
                                    "2": "2"
                                },
                                {
                                    "0": "Hungry Coyote Import Store",
                                    "1": "Laura Callahan",
                                    "2": "1"
                                },
                                {
                                    "0": "Hungry Owl All-Night Grocers",
                                    "1": "Anne Dodsworth",
                                    "2": "3"
                                },
                                {
                                    "0": "Island Trading",
                                    "1": "Margaret Peacock",
                                    "2": "3"
                                },
                                {
                                    "0": "Königlich Essen",
                                    "1": "Nancy Davolio",
                                    "2": "3"
                                },
                                {
                                    "0": "La corne d'abondance",
                                    "1": "NULL",
                                    "2": "NULL"
                                },
                                {
                                    "0": "La maison d'Asie",
                                    "1": "Laura Callahan",
                                    "2": "2"
                                },
                                {
                                    "0": "Laughing Bacchus Wine Cellars",
                                    "1": "Andrew Fuller",
                                    "2": "1"
                                },
                                {
                                    "0": "Lazy K Kountry Store",
                                    "1": "Laura Callahan",
                                    "2": "1"
                                },
                                {
                                    "0": "Lehmanns Marktstand",
                                    "1": "Janet Leverling",
                                    "2": "3"
                                },
                                {
                                    "0": "Let's Stop N Shop",
                                    "1": "Laura Callahan",
                                    "2": "1"
                                },
                                {
                                    "0": "LILA-Supermercado",
                                    "1": "Laura Callahan",
                                    "2": "1"
                                },
                                {
                                    "0": "LINO-Delicateses",
                                    "1": "Janet Leverling",
                                    "2": "2"
                                },
                                {
                                    "0": "Lonesome Pine Restaurant",
                                    "1": "Nancy Davolio",
                                    "2": "1"
                                },
                                {
                                    "0": "Magazzini Alimentari Riuniti",
                                    "1": "Laura Callahan",
                                    "2": "2"
                                },
                                {
                                    "0": "Maison Dewey",
                                    "1": "Steven Buchanan",
                                    "2": "2"
                                },
                                {
                                    "0": "Mère Paillarde",
                                    "1": "Janet Leverling",
                                    "2": "3"
                                },
                                {
                                    "0": "Morgenstern Gesundkost",
                                    "1": "Steven Buchanan",
                                    "2": "1"
                                },
                                {
                                    "0": "North/South",
                                    "1": "Andrew Fuller",
                                    "2": "1"
                                },
                                {
                                    "0": "Océano Atlántico Ltda.",
                                    "1": "Robert King",
                                    "2": "1"
                                },
                                {
                                    "0": "Old World Delicatessen",
                                    "1": "Janet Leverling",
                                    "2": "2"
                                },
                                {
                                    "0": "Ottilies Käseladen",
                                    "1": "Margaret Peacock",
                                    "2": "3"
                                },
                                {
                                    "0": "Paris spécialités",
                                    "1": "NULL",
                                    "2": "NULL"
                                },
                                {
                                    "0": "Pericles Comidas clásicas",
                                    "1": "Steven Buchanan",
                                    "2": "1"
                                },
                                {
                                    "0": "Piccolo und mehr",
                                    "1": "Andrew Fuller",
                                    "2": "2"
                                },
                                {
                                    "0": "Princesa Isabel Vinhos",
                                    "1": "Steven Buchanan",
                                    "2": "2"
                                },
                                {
                                    "0": "Que Delícia",
                                    "1": "Laura Callahan",
                                    "2": "2"
                                },
                                {
                                    "0": "Queen Cozinha",
                                    "1": "Robert King",
                                    "2": "2"
                                },
                                {
                                    "0": "QUICK-Stop",
                                    "1": "Andrew Fuller",
                                    "2": "3"
                                },
                                {
                                    "0": "Rancho grande",
                                    "1": "Margaret Peacock",
                                    "2": "2"
                                },
                                {
                                    "0": "Rattlesnake Canyon Grocery",
                                    "1": "Steven Buchanan",
                                    "2": "2"
                                },
                                {
                                    "0": "Reggiani Caseifici",
                                    "1": "Nancy Davolio",
                                    "2": "2"
                                },
                                {
                                    "0": "Ricardo Adocicados",
                                    "1": "Margaret Peacock",
                                    "2": "2"
                                },
                                {
                                    "0": "Richter Supermarkt",
                                    "1": "Janet Leverling",
                                    "2": "2"
                                },
                                {
                                    "0": "Romero y tomillo",
                                    "1": "NULL",
                                    "2": "NULL"
                                },
                                {
                                    "0": "Santé Gourmet",
                                    "1": "Robert King",
                                    "2": "2"
                                },
                                {
                                    "0": "Save-a-lot Markets",
                                    "1": "Laura Callahan",
                                    "2": "4"
                                },
                                {
                                    "0": "Seven Seas Imports",
                                    "1": "Laura Callahan",
                                    "2": "1"
                                },
                                {
                                    "0": "Simons bistro",
                                    "1": "Andrew Fuller",
                                    "2": "2"
                                },
                                {
                                    "0": "Spécialités du monde",
                                    "1": "Andrew Fuller",
                                    "2": "1"
                                },
                                {
                                    "0": "Split Rail Beer & Ale",
                                    "1": "Laura Callahan",
                                    "2": "1"
                                },
                                {
                                    "0": "Suprêmes délices",
                                    "1": "Steven Buchanan",
                                    "2": "1"
                                },
                                {
                                    "0": "The Big Cheese",
                                    "1": "Michael Suyama",
                                    "2": "1"
                                },
                                {
                                    "0": "The Cracker Box",
                                    "1": "Robert King",
                                    "2": "1"
                                },
                                {
                                    "0": "Toms Spezialitäten",
                                    "1": "Janet Leverling",
                                    "2": "2"
                                },
                                {
                                    "0": "Tortuga Restaurante",
                                    "1": "Andrew Fuller",
                                    "2": "1"
                                },
                                {
                                    "0": "Tradição Hipermercados",
                                    "1": "Robert King",
                                    "2": "1"
                                },
                                {
                                    "0": "Trail's Head Gourmet Provisioners",
                                    "1": "Anne Dodsworth",
                                    "2": "1"
                                },
                                {
                                    "0": "Vaffeljernet",
                                    "1": "Laura Callahan",
                                    "2": "2"
                                },
                                {
                                    "0": "Victuailles en stock",
                                    "1": "Laura Callahan",
                                    "2": "1"
                                },
                                {
                                    "0": "Vins et alcools Chevalier",
                                    "1": "Andrew Fuller",
                                    "2": "1"
                                },
                                {
                                    "0": "Wartian Herkku",
                                    "1": "Laura Callahan",
                                    "2": "4"
                                },
                                {
                                    "0": "Wellington Importadora",
                                    "1": "Janet Leverling",
                                    "2": "2"
                                },
                                {
                                    "0": "White Clover Markets",
                                    "1": "Laura Callahan",
                                    "2": "2"
                                },
                                {
                                    "0": "Wilman Kala",
                                    "1": "Andrew Fuller",
                                    "2": "2"
                                },
                                {
                                    "0": "Wolski  Zajazd",
                                    "1": "Nancy Davolio",
                                    "2": "1"
                                }
                            ]
                        },
                        "text/html": [
                            "<table>",
                            "<tr><th>CompanyName</th><th>(No column name)</th><th>(No column name)</th></tr>",
                            "<tr><td>Alfreds Futterkiste</td><td>Margaret Peacock</td><td>2</td></tr>",
                            "<tr><td>Ana Trujillo Emparedados y helados</td><td>Janet Leverling</td><td>2</td></tr>",
                            "<tr><td>Antonio Moreno Taquería</td><td>Robert King</td><td>2</td></tr>",
                            "<tr><td>Around the Horn</td><td>Nancy Davolio</td><td>3</td></tr>",
                            "<tr><td>Berglunds snabbköp</td><td>Nancy Davolio</td><td>4</td></tr>",
                            "<tr><td>Blauer See Delikatessen</td><td>Laura Callahan</td><td>1</td></tr>",
                            "<tr><td>Blondesddsl père et fils</td><td>Janet Leverling</td><td>2</td></tr>",
                            "<tr><td>Bon app'</td><td>Margaret Peacock</td><td>3</td></tr>",
                            "<tr><td>Bottom-Dollar Markets</td><td>Janet Leverling</td><td>3</td></tr>",
                            "<tr><td>Bólido Comidas preparadas</td><td>Margaret Peacock</td><td>1</td></tr>",
                            "<tr><td>B's Beverages</td><td>Michael Suyama</td><td>2</td></tr>",
                            "<tr><td>Cactus Comidas para llevar</td><td>Laura Callahan</td><td>1</td></tr>",
                            "<tr><td>Centro comercial Moctezuma</td><td>NULL</td><td>NULL</td></tr>",
                            "<tr><td>Chop-suey Chinese</td><td>Nancy Davolio</td><td>1</td></tr>",
                            "<tr><td>Comércio Mineiro</td><td>Margaret Peacock</td><td>2</td></tr>",
                            "<tr><td>Consolidated Holdings</td><td>Laura Callahan</td><td>1</td></tr>",
                            "<tr><td>Die Wandernde Kuh</td><td>Laura Callahan</td><td>2</td></tr>",
                            "<tr><td>Drachenblut Delikatessen</td><td>NULL</td><td>NULL</td></tr>",
                            "<tr><td>Du monde entier</td><td>Andrew Fuller</td><td>1</td></tr>",
                            "<tr><td>Eastern Connection</td><td>Nancy Davolio</td><td>1</td></tr>",
                            "<tr><td>Ernst Handel</td><td>Margaret Peacock</td><td>3</td></tr>",
                            "<tr><td>Familia Arquibaldo</td><td>Steven Buchanan</td><td>1</td></tr>",
                            "<tr><td>FISSA Fabrica Inter. Salchichas S.A.</td><td>NULL</td><td>NULL</td></tr>",
                            "<tr><td>Folies gourmandes</td><td>Laura Callahan</td><td>1</td></tr>",
                            "<tr><td>Folk och fä HB</td><td>Laura Callahan</td><td>2</td></tr>",
                            "<tr><td>France restauration</td><td>Nancy Davolio</td><td>1</td></tr>",
                            "<tr><td>Franchi S.p.A.</td><td>Nancy Davolio</td><td>1</td></tr>",
                            "<tr><td>Frankenversand</td><td>Laura Callahan</td><td>3</td></tr>",
                            "<tr><td>Furia Bacalhau e Frutos do Mar</td><td>Nancy Davolio</td><td>2</td></tr>",
                            "<tr><td>Galería del gastrónomo</td><td>Janet Leverling</td><td>1</td></tr>",
                            "<tr><td>Godos Cocina Típica</td><td>Robert King</td><td>1</td></tr>",
                            "<tr><td>Gourmet Lanchonetes</td><td>Margaret Peacock</td><td>2</td></tr>",
                            "<tr><td>Great Lakes Food Market</td><td>Michael Suyama</td><td>2</td></tr>",
                            "<tr><td>GROSELLA-Restaurante</td><td>Nancy Davolio</td><td>1</td></tr>",
                            "<tr><td>Hanari Carnes</td><td>Margaret Peacock</td><td>2</td></tr>",
                            "<tr><td>HILARION-Abastos</td><td>Laura Callahan</td><td>2</td></tr>",
                            "<tr><td>Hungry Coyote Import Store</td><td>Laura Callahan</td><td>1</td></tr>",
                            "<tr><td>Hungry Owl All-Night Grocers</td><td>Anne Dodsworth</td><td>3</td></tr>",
                            "<tr><td>Island Trading</td><td>Margaret Peacock</td><td>3</td></tr>",
                            "<tr><td>Königlich Essen</td><td>Nancy Davolio</td><td>3</td></tr>",
                            "<tr><td>La corne d'abondance</td><td>NULL</td><td>NULL</td></tr>",
                            "<tr><td>La maison d'Asie</td><td>Laura Callahan</td><td>2</td></tr>",
                            "<tr><td>Laughing Bacchus Wine Cellars</td><td>Andrew Fuller</td><td>1</td></tr>",
                            "<tr><td>Lazy K Kountry Store</td><td>Laura Callahan</td><td>1</td></tr>",
                            "<tr><td>Lehmanns Marktstand</td><td>Janet Leverling</td><td>3</td></tr>",
                            "<tr><td>Let's Stop N Shop</td><td>Laura Callahan</td><td>1</td></tr>",
                            "<tr><td>LILA-Supermercado</td><td>Laura Callahan</td><td>1</td></tr>",
                            "<tr><td>LINO-Delicateses</td><td>Janet Leverling</td><td>2</td></tr>",
                            "<tr><td>Lonesome Pine Restaurant</td><td>Nancy Davolio</td><td>1</td></tr>",
                            "<tr><td>Magazzini Alimentari Riuniti</td><td>Laura Callahan</td><td>2</td></tr>",
                            "<tr><td>Maison Dewey</td><td>Steven Buchanan</td><td>2</td></tr>",
                            "<tr><td>Mère Paillarde</td><td>Janet Leverling</td><td>3</td></tr>",
                            "<tr><td>Morgenstern Gesundkost</td><td>Steven Buchanan</td><td>1</td></tr>",
                            "<tr><td>North/South</td><td>Andrew Fuller</td><td>1</td></tr>",
                            "<tr><td>Océano Atlántico Ltda.</td><td>Robert King</td><td>1</td></tr>",
                            "<tr><td>Old World Delicatessen</td><td>Janet Leverling</td><td>2</td></tr>",
                            "<tr><td>Ottilies Käseladen</td><td>Margaret Peacock</td><td>3</td></tr>",
                            "<tr><td>Paris spécialités</td><td>NULL</td><td>NULL</td></tr>",
                            "<tr><td>Pericles Comidas clásicas</td><td>Steven Buchanan</td><td>1</td></tr>",
                            "<tr><td>Piccolo und mehr</td><td>Andrew Fuller</td><td>2</td></tr>",
                            "<tr><td>Princesa Isabel Vinhos</td><td>Steven Buchanan</td><td>2</td></tr>",
                            "<tr><td>Que Delícia</td><td>Laura Callahan</td><td>2</td></tr>",
                            "<tr><td>Queen Cozinha</td><td>Robert King</td><td>2</td></tr>",
                            "<tr><td>QUICK-Stop</td><td>Andrew Fuller</td><td>3</td></tr>",
                            "<tr><td>Rancho grande</td><td>Margaret Peacock</td><td>2</td></tr>",
                            "<tr><td>Rattlesnake Canyon Grocery</td><td>Steven Buchanan</td><td>2</td></tr>",
                            "<tr><td>Reggiani Caseifici</td><td>Nancy Davolio</td><td>2</td></tr>",
                            "<tr><td>Ricardo Adocicados</td><td>Margaret Peacock</td><td>2</td></tr>",
                            "<tr><td>Richter Supermarkt</td><td>Janet Leverling</td><td>2</td></tr>",
                            "<tr><td>Romero y tomillo</td><td>NULL</td><td>NULL</td></tr>",
                            "<tr><td>Santé Gourmet</td><td>Robert King</td><td>2</td></tr>",
                            "<tr><td>Save-a-lot Markets</td><td>Laura Callahan</td><td>4</td></tr>",
                            "<tr><td>Seven Seas Imports</td><td>Laura Callahan</td><td>1</td></tr>",
                            "<tr><td>Simons bistro</td><td>Andrew Fuller</td><td>2</td></tr>",
                            "<tr><td>Spécialités du monde</td><td>Andrew Fuller</td><td>1</td></tr>",
                            "<tr><td>Split Rail Beer &amp; Ale</td><td>Laura Callahan</td><td>1</td></tr>",
                            "<tr><td>Suprêmes délices</td><td>Steven Buchanan</td><td>1</td></tr>",
                            "<tr><td>The Big Cheese</td><td>Michael Suyama</td><td>1</td></tr>",
                            "<tr><td>The Cracker Box</td><td>Robert King</td><td>1</td></tr>",
                            "<tr><td>Toms Spezialitäten</td><td>Janet Leverling</td><td>2</td></tr>",
                            "<tr><td>Tortuga Restaurante</td><td>Andrew Fuller</td><td>1</td></tr>",
                            "<tr><td>Tradição Hipermercados</td><td>Robert King</td><td>1</td></tr>",
                            "<tr><td>Trail's Head Gourmet Provisioners</td><td>Anne Dodsworth</td><td>1</td></tr>",
                            "<tr><td>Vaffeljernet</td><td>Laura Callahan</td><td>2</td></tr>",
                            "<tr><td>Victuailles en stock</td><td>Laura Callahan</td><td>1</td></tr>",
                            "<tr><td>Vins et alcools Chevalier</td><td>Andrew Fuller</td><td>1</td></tr>",
                            "<tr><td>Wartian Herkku</td><td>Laura Callahan</td><td>4</td></tr>",
                            "<tr><td>Wellington Importadora</td><td>Janet Leverling</td><td>2</td></tr>",
                            "<tr><td>White Clover Markets</td><td>Laura Callahan</td><td>2</td></tr>",
                            "<tr><td>Wilman Kala</td><td>Andrew Fuller</td><td>2</td></tr>",
                            "<tr><td>Wolski  Zajazd</td><td>Nancy Davolio</td><td>1</td></tr>",
                            "</table>"
                        ]
                    }
                }
            ],
            "execution_count": 97
        }
    ]
}